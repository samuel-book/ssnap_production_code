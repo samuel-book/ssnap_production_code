{
 "cells": [
  {
   "cell_type": "markdown",
   "metadata": {},
   "source": [
    "# K-fold validation of thrombolysis prediction"
   ]
  },
  {
   "cell_type": "code",
   "execution_count": 1,
   "metadata": {},
   "outputs": [],
   "source": [
    "import matplotlib.pyplot as plt\n",
    "import numpy as np\n",
    "import pandas as pd\n",
    "\n",
    "from sklearn.metrics import auc\n",
    "from sklearn.metrics import roc_curve\n",
    "from sklearn.model_selection import StratifiedKFold\n",
    "from xgboost import XGBClassifier"
   ]
  },
  {
   "cell_type": "markdown",
   "metadata": {},
   "source": [
    "## Load data"
   ]
  },
  {
   "cell_type": "code",
   "execution_count": 2,
   "metadata": {},
   "outputs": [],
   "source": [
    "data = pd.read_csv('../data/thrombolysis_xgb_data_2017_2019.csv')"
   ]
  },
  {
   "cell_type": "code",
   "execution_count": 3,
   "metadata": {},
   "outputs": [
    {
     "data": {
      "text/html": [
       "<div>\n",
       "<style scoped>\n",
       "    .dataframe tbody tr th:only-of-type {\n",
       "        vertical-align: middle;\n",
       "    }\n",
       "\n",
       "    .dataframe tbody tr th {\n",
       "        vertical-align: top;\n",
       "    }\n",
       "\n",
       "    .dataframe thead th {\n",
       "        text-align: right;\n",
       "    }\n",
       "</style>\n",
       "<table border=\"1\" class=\"dataframe\">\n",
       "  <thead>\n",
       "    <tr style=\"text-align: right;\">\n",
       "      <th></th>\n",
       "      <th>stroke team</th>\n",
       "      <th>age</th>\n",
       "      <th>infarction</th>\n",
       "      <th>stroke severity</th>\n",
       "      <th>onset-to-arrival time</th>\n",
       "      <th>precise onset known</th>\n",
       "      <th>onset during sleep</th>\n",
       "      <th>use of AF anticoagulants</th>\n",
       "      <th>prior disability</th>\n",
       "      <th>arrival-to-scan time</th>\n",
       "      <th>thrombolysis</th>\n",
       "    </tr>\n",
       "  </thead>\n",
       "  <tbody>\n",
       "    <tr>\n",
       "      <th>0</th>\n",
       "      <td>Royal Hampshire County Hospital</td>\n",
       "      <td>57.5</td>\n",
       "      <td>1</td>\n",
       "      <td>7</td>\n",
       "      <td>96</td>\n",
       "      <td>0</td>\n",
       "      <td>1</td>\n",
       "      <td>0</td>\n",
       "      <td>0</td>\n",
       "      <td>58.0</td>\n",
       "      <td>0</td>\n",
       "    </tr>\n",
       "    <tr>\n",
       "      <th>1</th>\n",
       "      <td>Basildon University Hospital</td>\n",
       "      <td>67.5</td>\n",
       "      <td>1</td>\n",
       "      <td>2</td>\n",
       "      <td>164</td>\n",
       "      <td>1</td>\n",
       "      <td>0</td>\n",
       "      <td>0</td>\n",
       "      <td>0</td>\n",
       "      <td>18.0</td>\n",
       "      <td>0</td>\n",
       "    </tr>\n",
       "    <tr>\n",
       "      <th>2</th>\n",
       "      <td>Withybush General Hospital</td>\n",
       "      <td>62.5</td>\n",
       "      <td>1</td>\n",
       "      <td>5</td>\n",
       "      <td>150</td>\n",
       "      <td>0</td>\n",
       "      <td>0</td>\n",
       "      <td>0</td>\n",
       "      <td>0</td>\n",
       "      <td>48.0</td>\n",
       "      <td>1</td>\n",
       "    </tr>\n",
       "    <tr>\n",
       "      <th>3</th>\n",
       "      <td>Fairfield General Hospital</td>\n",
       "      <td>87.5</td>\n",
       "      <td>1</td>\n",
       "      <td>2</td>\n",
       "      <td>65</td>\n",
       "      <td>1</td>\n",
       "      <td>0</td>\n",
       "      <td>0</td>\n",
       "      <td>4</td>\n",
       "      <td>7.0</td>\n",
       "      <td>0</td>\n",
       "    </tr>\n",
       "    <tr>\n",
       "      <th>4</th>\n",
       "      <td>Stepping Hill Hospital</td>\n",
       "      <td>82.5</td>\n",
       "      <td>0</td>\n",
       "      <td>4</td>\n",
       "      <td>97</td>\n",
       "      <td>1</td>\n",
       "      <td>0</td>\n",
       "      <td>0</td>\n",
       "      <td>3</td>\n",
       "      <td>11.0</td>\n",
       "      <td>0</td>\n",
       "    </tr>\n",
       "  </tbody>\n",
       "</table>\n",
       "</div>"
      ],
      "text/plain": [
       "                       stroke team   age  infarction  stroke severity  \\\n",
       "0  Royal Hampshire County Hospital  57.5           1                7   \n",
       "1     Basildon University Hospital  67.5           1                2   \n",
       "2       Withybush General Hospital  62.5           1                5   \n",
       "3       Fairfield General Hospital  87.5           1                2   \n",
       "4           Stepping Hill Hospital  82.5           0                4   \n",
       "\n",
       "   onset-to-arrival time  precise onset known  onset during sleep  \\\n",
       "0                     96                    0                   1   \n",
       "1                    164                    1                   0   \n",
       "2                    150                    0                   0   \n",
       "3                     65                    1                   0   \n",
       "4                     97                    1                   0   \n",
       "\n",
       "   use of AF anticoagulants  prior disability  arrival-to-scan time  \\\n",
       "0                         0                 0                  58.0   \n",
       "1                         0                 0                  18.0   \n",
       "2                         0                 0                  48.0   \n",
       "3                         0                 4                   7.0   \n",
       "4                         0                 3                  11.0   \n",
       "\n",
       "   thrombolysis  \n",
       "0             0  \n",
       "1             0  \n",
       "2             1  \n",
       "3             0  \n",
       "4             0  "
      ]
     },
     "execution_count": 3,
     "metadata": {},
     "output_type": "execute_result"
    }
   ],
   "source": [
    "data.head()"
   ]
  },
  {
   "cell_type": "markdown",
   "metadata": {},
   "source": [
    "## Split data into X and y"
   ]
  },
  {
   "cell_type": "code",
   "execution_count": 4,
   "metadata": {},
   "outputs": [],
   "source": [
    "X = data.drop(['thrombolysis'], axis=1)\n",
    "y = data['thrombolysis']"
   ]
  },
  {
   "cell_type": "markdown",
   "metadata": {},
   "source": [
    "## Create k-fold splits\n",
    "\n",
    "Stratify by stroke team and use of thrombolysis."
   ]
  },
  {
   "cell_type": "code",
   "execution_count": 5,
   "metadata": {},
   "outputs": [],
   "source": [
    "stratification: pd.Series = (\n",
    "    data['stroke team'] + data['thrombolysis'].astype(str))\n",
    "\n",
    "# Create 5 k-fold for cross-validation\n",
    "skf = StratifiedKFold(n_splits=5, shuffle=True, random_state=42)\n",
    "skf.get_n_splits(data, stratification.values)\n",
    "\n",
    "k_fold_train_X = []\n",
    "k_fold_train_y = []\n",
    "k_fold_test_X = []\n",
    "k_fold_test_y = []\n",
    "k_fold_train_index = []\n",
    "k_fold_test_index = []\n",
    "\n",
    "for train_index, test_index in skf.split(X, y):\n",
    "    X_train, X_test = X.iloc[train_index], X.iloc[test_index]\n",
    "    y_train, y_test = y.iloc[train_index], y.iloc[test_index]\n",
    "    k_fold_train_X.append(X_train)\n",
    "    k_fold_train_y.append(y_train)\n",
    "    k_fold_test_X.append(X_test)\n",
    "    k_fold_test_y.append(y_test)"
   ]
  },
  {
   "cell_type": "code",
   "execution_count": 6,
   "metadata": {},
   "outputs": [
    {
     "name": "stdout",
     "output_type": "stream",
     "text": [
      "\n",
      "Accuracy: 0.840\n",
      "ROC AUC: 0.914\n",
      "\n",
      "Accuracy: 0.843\n",
      "ROC AUC: 0.913\n",
      "\n",
      "Accuracy: 0.852\n",
      "ROC AUC: 0.919\n",
      "\n",
      "Accuracy: 0.844\n",
      "ROC AUC: 0.912\n",
      "\n",
      "Accuracy: 0.847\n",
      "ROC AUC: 0.918\n",
      "\n",
      "Mean accuracy: 0.845\n",
      "Mean ROC AUC: 0.915\n"
     ]
    }
   ],
   "source": [
    "# Validate using 5-fold cross-validation\n",
    "accuracies = []\n",
    "roc_aucs = []\n",
    "probabilities = []\n",
    "fpr_kfold = []\n",
    "tpr_kfold = []\n",
    "thresholds_kfold = []\n",
    "\n",
    "for k in range(5):\n",
    "    # One hot encode hospitals\n",
    "    X_train_hosp = (pd.get_dummies(\n",
    "        k_fold_train_X[k]['stroke team'], prefix='team'))\n",
    "    X_train = pd.concat([k_fold_train_X[k], X_train_hosp], axis=1)\n",
    "    X_train.drop('stroke team', axis=1, inplace=True)\n",
    "    X_test_hosp = \\\n",
    "        pd.get_dummies(\n",
    "            k_fold_test_X[k]['stroke team'], prefix='team')\n",
    "    X_test = pd.concat([k_fold_test_X[k], X_test_hosp], axis=1)\n",
    "    X_test.drop('stroke team', axis=1, inplace=True)\n",
    "\n",
    "    # Create XGBoost model\n",
    "    model = XGBClassifier(verbosity=0, random_state=42, learning_rate=0.5)\n",
    "    model.fit(X_train, k_fold_train_y[k])\n",
    "\n",
    "    # Get predictions\n",
    "    y_pred = model.predict(X_test)\n",
    "    y_pred_proba = model.predict_proba(X_test)[:, 1]\n",
    "    probabilities.append(y_pred_proba)\n",
    "    accuracy = np.mean(y_pred == k_fold_test_y[k])\n",
    "    accuracies.append(accuracy)\n",
    "    print(f'\\nAccuracy: {accuracy:.3f}')\n",
    "\n",
    "    # Get ROC curve\n",
    "    fpr, tpr, thresholds = \\\n",
    "        roc_curve(k_fold_test_y[k], y_pred_proba)\n",
    "    roc_auc = auc(fpr, tpr)\n",
    "    roc_aucs.append(roc_auc)\n",
    "    fpr_kfold.append(fpr)\n",
    "    tpr_kfold.append(tpr)\n",
    "    thresholds_kfold.append(thresholds)\n",
    "    print(f'ROC AUC: {roc_auc:.3f}')\n",
    "\n",
    "print (f'\\nMean accuracy: {np.mean(accuracies):.3f}')\n",
    "print (f'Mean ROC AUC: {np.mean(roc_aucs):.3f}')"
   ]
  },
  {
   "cell_type": "code",
   "execution_count": 7,
   "metadata": {
    "tags": []
   },
   "outputs": [
    {
     "data": {
      "image/png": "[encoded data removed]",
      "text/plain": [
       "<Figure size 500x500 with 1 Axes>"
      ]
     },
     "metadata": {},
     "output_type": "display_data"
    }
   ],
   "source": [
    "fig = plt.figure(figsize=(5,5))\n",
    "\n",
    "# Plot ROC\n",
    "ax1 = fig.add_subplot(111)\n",
    "for k in range(5):\n",
    "    ax1.plot(fpr_kfold[k], tpr_kfold[k], color='orange')\n",
    "ax1.plot([0, 1], [0, 1], color='darkblue', linestyle='--')\n",
    "ax1.set_xlabel('False Positive Rate')\n",
    "ax1.set_ylabel('True Positive Rate')\n",
    "ax1.set_title('Receiver Operator Characteristic Curve')\n",
    "text = f'Mean AUC: {np.mean(roc_aucs):.3f}'\n",
    "ax1.text(0.64,0.07, text, \n",
    "         bbox=dict(facecolor='white', edgecolor='black'))\n",
    "plt.grid(True)\n",
    "\n",
    "plt.tight_layout(pad=2)\n",
    "\n",
    "plt.show()"
   ]
  }
 ],
 "metadata": {
  "kernelspec": {
   "display_name": "Python 3 (ipykernel)",
   "language": "python",
   "name": "python3"
  },
  "language_info": {
   "codemirror_mode": {
    "name": "ipython",
    "version": 3
   },
   "file_extension": ".py",
   "mimetype": "text/x-python",
   "name": "python",
   "nbconvert_exporter": "python",
   "pygments_lexer": "ipython3",
   "version": "3.10.10"
  }
 },
 "nbformat": 4,
 "nbformat_minor": 4
}
