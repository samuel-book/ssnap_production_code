{
 "cells": [
  {
   "attachments": {},
   "cell_type": "markdown",
   "metadata": {},
   "source": [
    "# Thrombolysis prediction shap"
   ]
  },
  {
   "cell_type": "code",
   "execution_count": 1,
   "metadata": {},
   "outputs": [],
   "source": [
    "import matplotlib.pyplot as plt\n",
    "import numpy as np\n",
    "import pandas as pd\n",
    "import shap\n",
    "\n",
    "from xgboost import XGBClassifier"
   ]
  },
  {
   "cell_type": "markdown",
   "metadata": {},
   "source": [
    "## Load data"
   ]
  },
  {
   "cell_type": "code",
   "execution_count": 2,
   "metadata": {},
   "outputs": [],
   "source": [
    "data = pd.read_csv('../data/thrombolysis_xgb_data_2017_2019.csv')"
   ]
  },
  {
   "cell_type": "code",
   "execution_count": 3,
   "metadata": {},
   "outputs": [
    {
     "data": {
      "text/html": [
       "<div>\n",
       "<style scoped>\n",
       "    .dataframe tbody tr th:only-of-type {\n",
       "        vertical-align: middle;\n",
       "    }\n",
       "\n",
       "    .dataframe tbody tr th {\n",
       "        vertical-align: top;\n",
       "    }\n",
       "\n",
       "    .dataframe thead th {\n",
       "        text-align: right;\n",
       "    }\n",
       "</style>\n",
       "<table border=\"1\" class=\"dataframe\">\n",
       "  <thead>\n",
       "    <tr style=\"text-align: right;\">\n",
       "      <th></th>\n",
       "      <th>stroke team</th>\n",
       "      <th>age</th>\n",
       "      <th>infarction</th>\n",
       "      <th>stroke severity</th>\n",
       "      <th>onset-to-arrival time</th>\n",
       "      <th>precise onset known</th>\n",
       "      <th>onset during sleep</th>\n",
       "      <th>use of AF anticoagulants</th>\n",
       "      <th>prior disability</th>\n",
       "      <th>arrival-to-scan time</th>\n",
       "      <th>thrombolysis</th>\n",
       "    </tr>\n",
       "  </thead>\n",
       "  <tbody>\n",
       "    <tr>\n",
       "      <th>0</th>\n",
       "      <td>Peterborough City Hospital</td>\n",
       "      <td>52.5</td>\n",
       "      <td>1</td>\n",
       "      <td>2</td>\n",
       "      <td>78</td>\n",
       "      <td>1</td>\n",
       "      <td>0</td>\n",
       "      <td>0</td>\n",
       "      <td>0</td>\n",
       "      <td>87.0</td>\n",
       "      <td>0</td>\n",
       "    </tr>\n",
       "    <tr>\n",
       "      <th>1</th>\n",
       "      <td>Royal Hampshire County Hospital</td>\n",
       "      <td>57.5</td>\n",
       "      <td>1</td>\n",
       "      <td>7</td>\n",
       "      <td>96</td>\n",
       "      <td>0</td>\n",
       "      <td>1</td>\n",
       "      <td>0</td>\n",
       "      <td>0</td>\n",
       "      <td>58.0</td>\n",
       "      <td>0</td>\n",
       "    </tr>\n",
       "    <tr>\n",
       "      <th>2</th>\n",
       "      <td>Basildon University Hospital</td>\n",
       "      <td>67.5</td>\n",
       "      <td>1</td>\n",
       "      <td>2</td>\n",
       "      <td>164</td>\n",
       "      <td>1</td>\n",
       "      <td>0</td>\n",
       "      <td>0</td>\n",
       "      <td>0</td>\n",
       "      <td>18.0</td>\n",
       "      <td>0</td>\n",
       "    </tr>\n",
       "    <tr>\n",
       "      <th>3</th>\n",
       "      <td>Withybush General Hospital</td>\n",
       "      <td>62.5</td>\n",
       "      <td>1</td>\n",
       "      <td>5</td>\n",
       "      <td>150</td>\n",
       "      <td>0</td>\n",
       "      <td>0</td>\n",
       "      <td>0</td>\n",
       "      <td>0</td>\n",
       "      <td>48.0</td>\n",
       "      <td>1</td>\n",
       "    </tr>\n",
       "    <tr>\n",
       "      <th>4</th>\n",
       "      <td>Fairfield General Hospital</td>\n",
       "      <td>87.5</td>\n",
       "      <td>1</td>\n",
       "      <td>2</td>\n",
       "      <td>65</td>\n",
       "      <td>1</td>\n",
       "      <td>0</td>\n",
       "      <td>0</td>\n",
       "      <td>4</td>\n",
       "      <td>7.0</td>\n",
       "      <td>0</td>\n",
       "    </tr>\n",
       "  </tbody>\n",
       "</table>\n",
       "</div>"
      ],
      "text/plain": [
       "                       stroke team   age  infarction  stroke severity  \\\n",
       "0       Peterborough City Hospital  52.5           1                2   \n",
       "1  Royal Hampshire County Hospital  57.5           1                7   \n",
       "2     Basildon University Hospital  67.5           1                2   \n",
       "3       Withybush General Hospital  62.5           1                5   \n",
       "4       Fairfield General Hospital  87.5           1                2   \n",
       "\n",
       "   onset-to-arrival time  precise onset known  onset during sleep  \\\n",
       "0                     78                    1                   0   \n",
       "1                     96                    0                   1   \n",
       "2                    164                    1                   0   \n",
       "3                    150                    0                   0   \n",
       "4                     65                    1                   0   \n",
       "\n",
       "   use of AF anticoagulants  prior disability  arrival-to-scan time  \\\n",
       "0                         0                 0                  87.0   \n",
       "1                         0                 0                  58.0   \n",
       "2                         0                 0                  18.0   \n",
       "3                         0                 0                  48.0   \n",
       "4                         0                 4                   7.0   \n",
       "\n",
       "   thrombolysis  \n",
       "0             0  \n",
       "1             0  \n",
       "2             0  \n",
       "3             1  \n",
       "4             0  "
      ]
     },
     "execution_count": 3,
     "metadata": {},
     "output_type": "execute_result"
    }
   ],
   "source": [
    "data.head()"
   ]
  },
  {
   "cell_type": "markdown",
   "metadata": {},
   "source": [
    "## Split data into X and y"
   ]
  },
  {
   "cell_type": "code",
   "execution_count": 4,
   "metadata": {},
   "outputs": [],
   "source": [
    "X = data.drop(['thrombolysis'], axis=1)\n",
    "y = data['thrombolysis']"
   ]
  },
  {
   "attachments": {},
   "cell_type": "markdown",
   "metadata": {},
   "source": [
    "## Fit XGBoost model"
   ]
  },
  {
   "cell_type": "code",
   "execution_count": 5,
   "metadata": {},
   "outputs": [
    {
     "name": "stdout",
     "output_type": "stream",
     "text": [
      "\n",
      "Accuracy: 0.886\n"
     ]
    }
   ],
   "source": [
    "# One hot encode hospitals\n",
    "X_train_hosp = (pd.get_dummies(X['stroke team'], prefix='team'))\n",
    "X_train = pd.concat([X, X_train_hosp], axis=1)\n",
    "X_train.drop('stroke team', axis=1, inplace=True)\n",
    "\n",
    "# Create XGBoost model\n",
    "model = XGBClassifier(verbosity=0, seed=42, learning_rate=0.5)\n",
    "model.fit(X_train, y)\n",
    "\n",
    "# Get predictions\n",
    "y_pred = model.predict(X_train)\n",
    "y_pred_proba = model.predict_proba(X_train)[:, 1]\n",
    "accuracy = np.mean(y_pred == y)\n",
    "print(f'\\nAccuracy: {accuracy:.3f}')"
   ]
  },
  {
   "attachments": {},
   "cell_type": "markdown",
   "metadata": {},
   "source": [
    "## Get SHAP values"
   ]
  },
  {
   "cell_type": "code",
   "execution_count": 6,
   "metadata": {},
   "outputs": [
    {
     "name": "stderr",
     "output_type": "stream",
     "text": [
      " 99%|===================| 69126/69510 [02:16<00:00]        "
     ]
    }
   ],
   "source": [
    "# Set up explainer using the model and feature values from training set\n",
    "explainer = shap.TreeExplainer(model, X_train)\n",
    "\n",
    "# GetShapley values along with base and feature values\n",
    "shap_values_extended = explainer(X_train)\n",
    "shap_values = shap_values_extended.values"
   ]
  },
  {
   "attachments": {},
   "cell_type": "markdown",
   "metadata": {},
   "source": [
    "## Summary SHAP plot"
   ]
  },
  {
   "cell_type": "code",
   "execution_count": 7,
   "metadata": {},
   "outputs": [
    {
     "name": "stderr",
     "output_type": "stream",
     "text": [
      "No data for colormapping provided via 'c'. Parameters 'vmin', 'vmax' will be ignored\n"
     ]
    },
    {
     "data": {
      "image/png": "[encoded data removed]",
      "text/plain": [
       "<Figure size 800x510 with 2 Axes>"
      ]
     },
     "metadata": {},
     "output_type": "display_data"
    }
   ],
   "source": [
    "shap.summary_plot(\n",
    "    shap_values=shap_values,\n",
    "    features=X_train,\n",
    "    max_display=9,\n",
    "    cmap=plt.get_cmap('nipy_spectral'), show=False)\n"
   ]
  },
  {
   "attachments": {},
   "cell_type": "markdown",
   "metadata": {},
   "source": [
    "## Get hospital SHAP"
   ]
  },
  {
   "cell_type": "code",
   "execution_count": 41,
   "metadata": {},
   "outputs": [],
   "source": [
    "# Get list of stroke teams\n",
    "stroke_teams = X['stroke team'].unique()\n",
    "stroke_teams.sort()\n",
    "\n",
    "# Get mean SHAP for stroke team when patient attending that stroke team\n",
    "stroke_team_mean_shap = dict()\n",
    "# Loop through stroke teams\n",
    "for stroke_team in stroke_teams:\n",
    "    # Identify rows in test data that match each stroke team\n",
    "    mask = X['stroke team'] == stroke_team\n",
    "    stroke_team_shap_all_features = shap_values[mask]\n",
    "    # Get column index for stroke_team_in_shap\n",
    "    feature_name = 'team_' + stroke_team\n",
    "    index = list(X_train).index(feature_name)\n",
    "    # Get SHAP values for hospital\n",
    "    stroke_team_shap = stroke_team_shap_all_features[:, index]\n",
    "    # Store median SHAP value for stroke team\n",
    "    stroke_team_mean_shap[stroke_team] = np.median(stroke_team_shap)"
   ]
  },
  {
   "cell_type": "code",
   "execution_count": 42,
   "metadata": {},
   "outputs": [],
   "source": [
    "stroke_team_shap_df = pd.DataFrame.from_dict(\n",
    "    stroke_team_mean_shap, orient='index', columns=['shap'])\n"
   ]
  },
  {
   "cell_type": "code",
   "execution_count": 43,
   "metadata": {},
   "outputs": [
    {
     "data": {
      "text/html": [
       "<div>\n",
       "<style scoped>\n",
       "    .dataframe tbody tr th:only-of-type {\n",
       "        vertical-align: middle;\n",
       "    }\n",
       "\n",
       "    .dataframe tbody tr th {\n",
       "        vertical-align: top;\n",
       "    }\n",
       "\n",
       "    .dataframe thead th {\n",
       "        text-align: right;\n",
       "    }\n",
       "</style>\n",
       "<table border=\"1\" class=\"dataframe\">\n",
       "  <thead>\n",
       "    <tr style=\"text-align: right;\">\n",
       "      <th></th>\n",
       "      <th>shap</th>\n",
       "    </tr>\n",
       "  </thead>\n",
       "  <tbody>\n",
       "    <tr>\n",
       "      <th>Addenbrooke's Hospital</th>\n",
       "      <td>0.526567</td>\n",
       "    </tr>\n",
       "    <tr>\n",
       "      <th>Basildon University Hospital</th>\n",
       "      <td>0.240941</td>\n",
       "    </tr>\n",
       "    <tr>\n",
       "      <th>Blackpool Victoria Hospital</th>\n",
       "      <td>-0.353723</td>\n",
       "    </tr>\n",
       "    <tr>\n",
       "      <th>Bradford and Airedale SU</th>\n",
       "      <td>-0.235998</td>\n",
       "    </tr>\n",
       "    <tr>\n",
       "      <th>Broomfield Hospital</th>\n",
       "      <td>-0.204034</td>\n",
       "    </tr>\n",
       "    <tr>\n",
       "      <th>...</th>\n",
       "      <td>...</td>\n",
       "    </tr>\n",
       "    <tr>\n",
       "      <th>Worthing Hospital</th>\n",
       "      <td>0.406333</td>\n",
       "    </tr>\n",
       "    <tr>\n",
       "      <th>Wycombe General Hospital</th>\n",
       "      <td>0.292859</td>\n",
       "    </tr>\n",
       "    <tr>\n",
       "      <th>Yeovil District Hospital</th>\n",
       "      <td>0.392428</td>\n",
       "    </tr>\n",
       "    <tr>\n",
       "      <th>York Hospital</th>\n",
       "      <td>-0.247052</td>\n",
       "    </tr>\n",
       "    <tr>\n",
       "      <th>Ysbyty Gwynedd</th>\n",
       "      <td>-0.765083</td>\n",
       "    </tr>\n",
       "  </tbody>\n",
       "</table>\n",
       "<p>114 rows × 1 columns</p>\n",
       "</div>"
      ],
      "text/plain": [
       "                                  shap\n",
       "Addenbrooke's Hospital        0.526567\n",
       "Basildon University Hospital  0.240941\n",
       "Blackpool Victoria Hospital  -0.353723\n",
       "Bradford and Airedale SU     -0.235998\n",
       "Broomfield Hospital          -0.204034\n",
       "...                                ...\n",
       "Worthing Hospital             0.406333\n",
       "Wycombe General Hospital      0.292859\n",
       "Yeovil District Hospital      0.392428\n",
       "York Hospital                -0.247052\n",
       "Ysbyty Gwynedd               -0.765083\n",
       "\n",
       "[114 rows x 1 columns]"
      ]
     },
     "execution_count": 43,
     "metadata": {},
     "output_type": "execute_result"
    }
   ],
   "source": [
    "stroke_team_shap_df"
   ]
  },
  {
   "attachments": {},
   "cell_type": "markdown",
   "metadata": {},
   "source": [
    "Add observed thrombolysis"
   ]
  },
  {
   "cell_type": "code",
   "execution_count": 44,
   "metadata": {},
   "outputs": [],
   "source": [
    "observed_thrombolysis = data.groupby('stroke team')['thrombolysis'].mean()"
   ]
  },
  {
   "cell_type": "code",
   "execution_count": 49,
   "metadata": {},
   "outputs": [
    {
     "data": {
      "text/html": [
       "<div>\n",
       "<style scoped>\n",
       "    .dataframe tbody tr th:only-of-type {\n",
       "        vertical-align: middle;\n",
       "    }\n",
       "\n",
       "    .dataframe tbody tr th {\n",
       "        vertical-align: top;\n",
       "    }\n",
       "\n",
       "    .dataframe thead th {\n",
       "        text-align: right;\n",
       "    }\n",
       "</style>\n",
       "<table border=\"1\" class=\"dataframe\">\n",
       "  <thead>\n",
       "    <tr style=\"text-align: right;\">\n",
       "      <th></th>\n",
       "      <th>shap</th>\n",
       "      <th>observed thrombolysis (%)</th>\n",
       "    </tr>\n",
       "  </thead>\n",
       "  <tbody>\n",
       "    <tr>\n",
       "      <th>Southend Hospital</th>\n",
       "      <td>1.049</td>\n",
       "      <td>35.674</td>\n",
       "    </tr>\n",
       "    <tr>\n",
       "      <th>Morriston Hospital</th>\n",
       "      <td>1.038</td>\n",
       "      <td>41.831</td>\n",
       "    </tr>\n",
       "    <tr>\n",
       "      <th>Watford General Hospital</th>\n",
       "      <td>1.024</td>\n",
       "      <td>37.821</td>\n",
       "    </tr>\n",
       "    <tr>\n",
       "      <th>Queens Hospital Romford HASU</th>\n",
       "      <td>0.948</td>\n",
       "      <td>43.380</td>\n",
       "    </tr>\n",
       "    <tr>\n",
       "      <th>Royal London Hospital HASU</th>\n",
       "      <td>0.802</td>\n",
       "      <td>48.807</td>\n",
       "    </tr>\n",
       "    <tr>\n",
       "      <th>...</th>\n",
       "      <td>...</td>\n",
       "      <td>...</td>\n",
       "    </tr>\n",
       "    <tr>\n",
       "      <th>Kings Mill Hospital</th>\n",
       "      <td>-0.998</td>\n",
       "      <td>30.640</td>\n",
       "    </tr>\n",
       "    <tr>\n",
       "      <th>St Mary's Hospital Newport</th>\n",
       "      <td>-1.207</td>\n",
       "      <td>20.243</td>\n",
       "    </tr>\n",
       "    <tr>\n",
       "      <th>Chesterfield Royal</th>\n",
       "      <td>-1.262</td>\n",
       "      <td>21.206</td>\n",
       "    </tr>\n",
       "    <tr>\n",
       "      <th>North Devon District Hospital</th>\n",
       "      <td>-1.315</td>\n",
       "      <td>16.667</td>\n",
       "    </tr>\n",
       "    <tr>\n",
       "      <th>Eastbourne District General Hospital</th>\n",
       "      <td>-1.404</td>\n",
       "      <td>19.157</td>\n",
       "    </tr>\n",
       "  </tbody>\n",
       "</table>\n",
       "<p>114 rows × 2 columns</p>\n",
       "</div>"
      ],
      "text/plain": [
       "                                       shap  observed thrombolysis (%)\n",
       "Southend Hospital                     1.049                     35.674\n",
       "Morriston Hospital                    1.038                     41.831\n",
       "Watford General Hospital              1.024                     37.821\n",
       "Queens Hospital Romford HASU          0.948                     43.380\n",
       "Royal London Hospital HASU            0.802                     48.807\n",
       "...                                     ...                        ...\n",
       "Kings Mill Hospital                  -0.998                     30.640\n",
       "St Mary's Hospital Newport           -1.207                     20.243\n",
       "Chesterfield Royal                   -1.262                     21.206\n",
       "North Devon District Hospital        -1.315                     16.667\n",
       "Eastbourne District General Hospital -1.404                     19.157\n",
       "\n",
       "[114 rows x 2 columns]"
      ]
     },
     "execution_count": 49,
     "metadata": {},
     "output_type": "execute_result"
    }
   ],
   "source": [
    "stroke_team_shap_df['observed thrombolysis (%)'] = observed_thrombolysis * 100\n",
    "# Sort by SHAP\n",
    "stroke_team_shap_df.sort_values(by='shap', ascending=False, inplace=True)\n",
    "stroke_team_shap_df = stroke_team_shap_df.round(3)\n",
    "stroke_team_shap_df"
   ]
  },
  {
   "cell_type": "markdown",
   "metadata": {},
   "source": []
  },
  {
   "cell_type": "code",
   "execution_count": 50,
   "metadata": {},
   "outputs": [],
   "source": [
    "stroke_team_shap_df.to_csv('./output/stroke_team_shap.csv')"
   ]
  },
  {
   "attachments": {},
   "cell_type": "markdown",
   "metadata": {},
   "source": [
    "To do: get main effect"
   ]
  },
  {
   "cell_type": "code",
   "execution_count": null,
   "metadata": {},
   "outputs": [],
   "source": [
    "#Get SHAP interaction values\n",
    "#explainer = shap.TreeExplainer(model)\n",
    "#shap_interaction = explainer.shap_interaction_values(X_train)"
   ]
  },
  {
   "cell_type": "markdown",
   "metadata": {},
   "source": []
  }
 ],
 "metadata": {
  "kernelspec": {
   "display_name": "sam10",
   "language": "python",
   "name": "python3"
  },
  "language_info": {
   "codemirror_mode": {
    "name": "ipython",
    "version": 3
   },
   "file_extension": ".py",
   "mimetype": "text/x-python",
   "name": "python",
   "nbconvert_exporter": "python",
   "pygments_lexer": "ipython3",
   "version": "3.10.10"
  },
  "orig_nbformat": 4
 },
 "nbformat": 4,
 "nbformat_minor": 2
}
