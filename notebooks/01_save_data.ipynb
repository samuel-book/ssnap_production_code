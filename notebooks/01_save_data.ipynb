{
 "cells": [
  {
   "cell_type": "markdown",
   "metadata": {},
   "source": [
    "# Save data for thrombolysis model"
   ]
  },
  {
   "cell_type": "code",
   "execution_count": 9,
   "metadata": {},
   "outputs": [],
   "source": [
    "import pandas as pd"
   ]
  },
  {
   "cell_type": "markdown",
   "metadata": {},
   "source": [
    "## Read in data and restrict fields"
   ]
  },
  {
   "cell_type": "code",
   "execution_count": 10,
   "metadata": {},
   "outputs": [],
   "source": [
    "\n",
    "data: pd.DataFrame = pd.read_csv('../data/data.csv')"
   ]
  },
  {
   "cell_type": "markdown",
   "metadata": {},
   "source": [
    "Restrict years"
   ]
  },
  {
   "cell_type": "code",
   "execution_count": 11,
   "metadata": {},
   "outputs": [],
   "source": [
    "year_start = 2017\n",
    "year_end = 2019\n",
    "\n",
    "data = data[(data['year'] >= year_start) & (data['year'] <= year_end)]"
   ]
  },
  {
   "cell_type": "markdown",
   "metadata": {},
   "source": [
    "Restrict data by year, admissions, and thrombolysis"
   ]
  },
  {
   "cell_type": "code",
   "execution_count": 12,
   "metadata": {},
   "outputs": [],
   "source": [
    "minimum_admissions_per_year = 100\n",
    "minimum_thrombolysis_per_year = 3\n",
    "number_of_years = year_end - year_start + 1\n",
    "\n",
    "included_teams = []\n",
    "\n",
    "# Create groupy object, by stroke team\n",
    "groupby = data.groupby('stroke team')\n",
    "\n",
    "# Loop through groupby object and check stroke team within limits\n",
    "for stroke_team, group in groupby:\n",
    "\n",
    "    # Include the group by default\n",
    "    include = True\n",
    "\n",
    "    # Check number of admissions\n",
    "    if len(group) / number_of_years < minimum_admissions_per_year:\n",
    "        include = False\n",
    "\n",
    "    # Check number of thrombolysis\n",
    "    elif (group['thrombolysis'].sum() / number_of_years\n",
    "            < minimum_thrombolysis_per_year):\n",
    "        include = False\n",
    "\n",
    "    # If the group is to be included, append it to included teams list\n",
    "    if include:\n",
    "            included_teams.append(stroke_team)\n",
    "\n",
    "# Censor arrival-to-scan time to 360 minutes\n",
    "data['arrival-to-scan time'] = data['arrival-to-scan time'].clip(upper=360)\n",
    "\n",
    "# Filter data to only include included teams\n",
    "data = data[data['stroke team'].isin(included_teams)]\n",
    "\n",
    "# Drop rows with onset known = 0\n",
    "data = data[data['onset known'] == 1]\n",
    "\n",
    "# Drop rows with onset-to-arrival time of > 240 mins\n",
    "data = data[data['onset-to-arrival time'] <= 240]\n",
    "data = data[data['onset known'] == True]\n",
    "\n",
    "# Drop rows with onset-to-arrival time of < 0 mins\n",
    "data = data[data['onset-to-arrival time'] > 0]\n",
    "\n",
    "# Drop those not arriving by ambulance\n",
    "data = data[data['arrive by ambulance'] == True]"
   ]
  },
  {
   "cell_type": "code",
   "execution_count": 13,
   "metadata": {},
   "outputs": [],
   "source": [
    "xgb_thrombolysis_fields: list = [\n",
    "            'stroke team', 'age', 'infarction', 'stroke severity',\n",
    "            'onset-to-arrival time', 'precise onset known',\n",
    "            'onset during sleep', 'use of AF anticoagulants',\n",
    "            'prior disability', 'arrival-to-scan time', 'thrombolysis']\n",
    "\n",
    "data = data[xgb_thrombolysis_fields]"
   ]
  },
  {
   "cell_type": "code",
   "execution_count": 14,
   "metadata": {},
   "outputs": [
    {
     "data": {
      "text/html": [
       "<div>\n",
       "<style scoped>\n",
       "    .dataframe tbody tr th:only-of-type {\n",
       "        vertical-align: middle;\n",
       "    }\n",
       "\n",
       "    .dataframe tbody tr th {\n",
       "        vertical-align: top;\n",
       "    }\n",
       "\n",
       "    .dataframe thead th {\n",
       "        text-align: right;\n",
       "    }\n",
       "</style>\n",
       "<table border=\"1\" class=\"dataframe\">\n",
       "  <thead>\n",
       "    <tr style=\"text-align: right;\">\n",
       "      <th></th>\n",
       "      <th>count</th>\n",
       "      <th>mean</th>\n",
       "      <th>std</th>\n",
       "      <th>min</th>\n",
       "      <th>25%</th>\n",
       "      <th>50%</th>\n",
       "      <th>75%</th>\n",
       "      <th>max</th>\n",
       "    </tr>\n",
       "  </thead>\n",
       "  <tbody>\n",
       "    <tr>\n",
       "      <th>age</th>\n",
       "      <td>62234.0</td>\n",
       "      <td>75.282322</td>\n",
       "      <td>13.237182</td>\n",
       "      <td>37.5</td>\n",
       "      <td>67.5</td>\n",
       "      <td>77.5</td>\n",
       "      <td>87.5</td>\n",
       "      <td>92.5</td>\n",
       "    </tr>\n",
       "    <tr>\n",
       "      <th>infarction</th>\n",
       "      <td>62234.0</td>\n",
       "      <td>0.849295</td>\n",
       "      <td>0.357764</td>\n",
       "      <td>0.0</td>\n",
       "      <td>1.0</td>\n",
       "      <td>1.0</td>\n",
       "      <td>1.0</td>\n",
       "      <td>1.0</td>\n",
       "    </tr>\n",
       "    <tr>\n",
       "      <th>stroke severity</th>\n",
       "      <td>62234.0</td>\n",
       "      <td>9.435598</td>\n",
       "      <td>8.406524</td>\n",
       "      <td>0.0</td>\n",
       "      <td>3.0</td>\n",
       "      <td>6.0</td>\n",
       "      <td>15.0</td>\n",
       "      <td>42.0</td>\n",
       "    </tr>\n",
       "    <tr>\n",
       "      <th>onset-to-arrival time</th>\n",
       "      <td>62234.0</td>\n",
       "      <td>113.227914</td>\n",
       "      <td>51.831917</td>\n",
       "      <td>1.0</td>\n",
       "      <td>73.0</td>\n",
       "      <td>102.0</td>\n",
       "      <td>147.0</td>\n",
       "      <td>240.0</td>\n",
       "    </tr>\n",
       "    <tr>\n",
       "      <th>precise onset known</th>\n",
       "      <td>62234.0</td>\n",
       "      <td>0.637079</td>\n",
       "      <td>0.480846</td>\n",
       "      <td>0.0</td>\n",
       "      <td>0.0</td>\n",
       "      <td>1.0</td>\n",
       "      <td>1.0</td>\n",
       "      <td>1.0</td>\n",
       "    </tr>\n",
       "    <tr>\n",
       "      <th>onset during sleep</th>\n",
       "      <td>62234.0</td>\n",
       "      <td>0.046743</td>\n",
       "      <td>0.211089</td>\n",
       "      <td>0.0</td>\n",
       "      <td>0.0</td>\n",
       "      <td>0.0</td>\n",
       "      <td>0.0</td>\n",
       "      <td>1.0</td>\n",
       "    </tr>\n",
       "    <tr>\n",
       "      <th>use of AF anticoagulants</th>\n",
       "      <td>62234.0</td>\n",
       "      <td>0.139586</td>\n",
       "      <td>0.346560</td>\n",
       "      <td>0.0</td>\n",
       "      <td>0.0</td>\n",
       "      <td>0.0</td>\n",
       "      <td>0.0</td>\n",
       "      <td>1.0</td>\n",
       "    </tr>\n",
       "    <tr>\n",
       "      <th>prior disability</th>\n",
       "      <td>62234.0</td>\n",
       "      <td>1.114535</td>\n",
       "      <td>1.445364</td>\n",
       "      <td>0.0</td>\n",
       "      <td>0.0</td>\n",
       "      <td>0.0</td>\n",
       "      <td>2.0</td>\n",
       "      <td>5.0</td>\n",
       "    </tr>\n",
       "    <tr>\n",
       "      <th>arrival-to-scan time</th>\n",
       "      <td>62158.0</td>\n",
       "      <td>52.038499</td>\n",
       "      <td>73.227005</td>\n",
       "      <td>1.0</td>\n",
       "      <td>14.0</td>\n",
       "      <td>26.0</td>\n",
       "      <td>51.0</td>\n",
       "      <td>360.0</td>\n",
       "    </tr>\n",
       "    <tr>\n",
       "      <th>thrombolysis</th>\n",
       "      <td>62234.0</td>\n",
       "      <td>0.302680</td>\n",
       "      <td>0.459422</td>\n",
       "      <td>0.0</td>\n",
       "      <td>0.0</td>\n",
       "      <td>0.0</td>\n",
       "      <td>1.0</td>\n",
       "      <td>1.0</td>\n",
       "    </tr>\n",
       "  </tbody>\n",
       "</table>\n",
       "</div>"
      ],
      "text/plain": [
       "                            count        mean        std   min   25%    50%  \\\n",
       "age                       62234.0   75.282322  13.237182  37.5  67.5   77.5   \n",
       "infarction                62234.0    0.849295   0.357764   0.0   1.0    1.0   \n",
       "stroke severity           62234.0    9.435598   8.406524   0.0   3.0    6.0   \n",
       "onset-to-arrival time     62234.0  113.227914  51.831917   1.0  73.0  102.0   \n",
       "precise onset known       62234.0    0.637079   0.480846   0.0   0.0    1.0   \n",
       "onset during sleep        62234.0    0.046743   0.211089   0.0   0.0    0.0   \n",
       "use of AF anticoagulants  62234.0    0.139586   0.346560   0.0   0.0    0.0   \n",
       "prior disability          62234.0    1.114535   1.445364   0.0   0.0    0.0   \n",
       "arrival-to-scan time      62158.0   52.038499  73.227005   1.0  14.0   26.0   \n",
       "thrombolysis              62234.0    0.302680   0.459422   0.0   0.0    0.0   \n",
       "\n",
       "                            75%    max  \n",
       "age                        87.5   92.5  \n",
       "infarction                  1.0    1.0  \n",
       "stroke severity            15.0   42.0  \n",
       "onset-to-arrival time     147.0  240.0  \n",
       "precise onset known         1.0    1.0  \n",
       "onset during sleep          0.0    1.0  \n",
       "use of AF anticoagulants    0.0    1.0  \n",
       "prior disability            2.0    5.0  \n",
       "arrival-to-scan time       51.0  360.0  \n",
       "thrombolysis                1.0    1.0  "
      ]
     },
     "execution_count": 14,
     "metadata": {},
     "output_type": "execute_result"
    }
   ],
   "source": [
    "data.describe().T"
   ]
  },
  {
   "cell_type": "markdown",
   "metadata": {},
   "source": [
    "## Save data"
   ]
  },
  {
   "cell_type": "code",
   "execution_count": 15,
   "metadata": {},
   "outputs": [],
   "source": [
    "data.to_csv('../data/thrombolysis_xgb_data_2017_2019.csv', index=False)"
   ]
  }
 ],
 "metadata": {
  "kernelspec": {
   "display_name": "Python 3 (ipykernel)",
   "language": "python",
   "name": "python3"
  },
  "language_info": {
   "codemirror_mode": {
    "name": "ipython",
    "version": 3
   },
   "file_extension": ".py",
   "mimetype": "text/x-python",
   "name": "python",
   "nbconvert_exporter": "python",
   "pygments_lexer": "ipython3",
   "version": "3.10.10"
  }
 },
 "nbformat": 4,
 "nbformat_minor": 4
}
