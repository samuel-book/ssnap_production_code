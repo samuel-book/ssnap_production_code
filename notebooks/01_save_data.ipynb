{
 "cells": [
  {
   "attachments": {},
   "cell_type": "markdown",
   "metadata": {},
   "source": [
    "# Save data for thrombolysis model"
   ]
  },
  {
   "cell_type": "code",
   "execution_count": 8,
   "metadata": {},
   "outputs": [],
   "source": [
    "import pandas as pd"
   ]
  },
  {
   "attachments": {},
   "cell_type": "markdown",
   "metadata": {},
   "source": [
    "## Read in data and restrict fields"
   ]
  },
  {
   "cell_type": "code",
   "execution_count": 9,
   "metadata": {},
   "outputs": [],
   "source": [
    "\n",
    "data: pd.DataFrame = pd.read_csv('../data/data.csv')"
   ]
  },
  {
   "attachments": {},
   "cell_type": "markdown",
   "metadata": {},
   "source": [
    "Restrict years"
   ]
  },
  {
   "cell_type": "code",
   "execution_count": 10,
   "metadata": {},
   "outputs": [],
   "source": [
    "year_start = 2017\n",
    "year_end = 2019\n",
    "\n",
    "data = data[(data['year'] >= year_start) & (data['year'] <= year_end)]"
   ]
  },
  {
   "attachments": {},
   "cell_type": "markdown",
   "metadata": {},
   "source": [
    "Restrict data by year, admissions, and thrombolysis"
   ]
  },
  {
   "cell_type": "code",
   "execution_count": 11,
   "metadata": {},
   "outputs": [],
   "source": [
    "minimum_admissions_per_year = 100\n",
    "minimum_thrombolysis_per_year = 3\n",
    "number_of_years = year_end - year_start + 1\n",
    "\n",
    "included_teams = []\n",
    "\n",
    "# Create groupy object, by stroke team\n",
    "groupby = data.groupby('stroke team')\n",
    "\n",
    "# Loop through groupby object and check stroke team within limits\n",
    "for stroke_team, group in groupby:\n",
    "\n",
    "    # Include the group by default\n",
    "    include = True\n",
    "\n",
    "    # Check number of admissions\n",
    "    if len(group) / number_of_years < minimum_admissions_per_year:\n",
    "        include = False\n",
    "\n",
    "    # Check number of thrombolysis\n",
    "    elif (group['thrombolysis'].sum() / number_of_years\n",
    "            < minimum_thrombolysis_per_year):\n",
    "        include = False\n",
    "\n",
    "    # If the group is to be included, append it to included teams list\n",
    "    if include:\n",
    "            included_teams.append(stroke_team)\n",
    "\n",
    "# Censor arrival-to-scan time to 360 minutes\n",
    "data['arrival-to-scan time'] = data['arrival-to-scan time'].clip(upper=360)\n",
    "\n",
    "# Filter data to only include included teams\n",
    "data = data[data['stroke team'].isin(included_teams)]\n",
    "\n",
    "# Drop rows with onset-to-arrival time of > 240 mins\n",
    "data = data[data['onset-to-arrival time'] <= 240]\n",
    "\n",
    "# Drop rows with onset-to-arrival time of < 0 mins\n",
    "data = data[data['onset-to-arrival time'] >= 0]"
   ]
  },
  {
   "cell_type": "code",
   "execution_count": 12,
   "metadata": {},
   "outputs": [],
   "source": [
    "xgb_thrombolysis_fields: list = [\n",
    "            'stroke team', 'age', 'infarction', 'stroke severity',\n",
    "            'onset-to-arrival time', 'precise onset known',\n",
    "            'onset during sleep', 'use of AF anticoagulants',\n",
    "            'prior disability', 'arrival-to-scan time', 'thrombolysis']\n",
    "\n",
    "data = data[xgb_thrombolysis_fields]"
   ]
  },
  {
   "cell_type": "code",
   "execution_count": 13,
   "metadata": {},
   "outputs": [
    {
     "data": {
      "text/html": [
       "<div>\n",
       "<style scoped>\n",
       "    .dataframe tbody tr th:only-of-type {\n",
       "        vertical-align: middle;\n",
       "    }\n",
       "\n",
       "    .dataframe tbody tr th {\n",
       "        vertical-align: top;\n",
       "    }\n",
       "\n",
       "    .dataframe thead th {\n",
       "        text-align: right;\n",
       "    }\n",
       "</style>\n",
       "<table border=\"1\" class=\"dataframe\">\n",
       "  <thead>\n",
       "    <tr style=\"text-align: right;\">\n",
       "      <th></th>\n",
       "      <th>count</th>\n",
       "      <th>mean</th>\n",
       "      <th>std</th>\n",
       "      <th>min</th>\n",
       "      <th>25%</th>\n",
       "      <th>50%</th>\n",
       "      <th>75%</th>\n",
       "      <th>max</th>\n",
       "    </tr>\n",
       "  </thead>\n",
       "  <tbody>\n",
       "    <tr>\n",
       "      <th>age</th>\n",
       "      <td>69510.0</td>\n",
       "      <td>74.666451</td>\n",
       "      <td>13.428511</td>\n",
       "      <td>37.5</td>\n",
       "      <td>67.5</td>\n",
       "      <td>77.5</td>\n",
       "      <td>87.5</td>\n",
       "      <td>92.5</td>\n",
       "    </tr>\n",
       "    <tr>\n",
       "      <th>infarction</th>\n",
       "      <td>69510.0</td>\n",
       "      <td>0.852539</td>\n",
       "      <td>0.354567</td>\n",
       "      <td>0.0</td>\n",
       "      <td>1.0</td>\n",
       "      <td>1.0</td>\n",
       "      <td>1.0</td>\n",
       "      <td>1.0</td>\n",
       "    </tr>\n",
       "    <tr>\n",
       "      <th>stroke severity</th>\n",
       "      <td>69510.0</td>\n",
       "      <td>9.004402</td>\n",
       "      <td>8.326078</td>\n",
       "      <td>0.0</td>\n",
       "      <td>3.0</td>\n",
       "      <td>6.0</td>\n",
       "      <td>14.0</td>\n",
       "      <td>42.0</td>\n",
       "    </tr>\n",
       "    <tr>\n",
       "      <th>onset-to-arrival time</th>\n",
       "      <td>69510.0</td>\n",
       "      <td>112.968105</td>\n",
       "      <td>53.235907</td>\n",
       "      <td>0.0</td>\n",
       "      <td>72.0</td>\n",
       "      <td>102.0</td>\n",
       "      <td>149.0</td>\n",
       "      <td>240.0</td>\n",
       "    </tr>\n",
       "    <tr>\n",
       "      <th>precise onset known</th>\n",
       "      <td>69510.0</td>\n",
       "      <td>0.630873</td>\n",
       "      <td>0.482572</td>\n",
       "      <td>0.0</td>\n",
       "      <td>0.0</td>\n",
       "      <td>1.0</td>\n",
       "      <td>1.0</td>\n",
       "      <td>1.0</td>\n",
       "    </tr>\n",
       "    <tr>\n",
       "      <th>onset during sleep</th>\n",
       "      <td>69510.0</td>\n",
       "      <td>0.050309</td>\n",
       "      <td>0.218584</td>\n",
       "      <td>0.0</td>\n",
       "      <td>0.0</td>\n",
       "      <td>0.0</td>\n",
       "      <td>0.0</td>\n",
       "      <td>1.0</td>\n",
       "    </tr>\n",
       "    <tr>\n",
       "      <th>use of AF anticoagulants</th>\n",
       "      <td>69510.0</td>\n",
       "      <td>0.135448</td>\n",
       "      <td>0.342204</td>\n",
       "      <td>0.0</td>\n",
       "      <td>0.0</td>\n",
       "      <td>0.0</td>\n",
       "      <td>0.0</td>\n",
       "      <td>1.0</td>\n",
       "    </tr>\n",
       "    <tr>\n",
       "      <th>prior disability</th>\n",
       "      <td>69510.0</td>\n",
       "      <td>1.062034</td>\n",
       "      <td>1.420023</td>\n",
       "      <td>0.0</td>\n",
       "      <td>0.0</td>\n",
       "      <td>0.0</td>\n",
       "      <td>2.0</td>\n",
       "      <td>5.0</td>\n",
       "    </tr>\n",
       "    <tr>\n",
       "      <th>arrival-to-scan time</th>\n",
       "      <td>69420.0</td>\n",
       "      <td>56.234342</td>\n",
       "      <td>77.025687</td>\n",
       "      <td>1.0</td>\n",
       "      <td>15.0</td>\n",
       "      <td>28.0</td>\n",
       "      <td>56.0</td>\n",
       "      <td>360.0</td>\n",
       "    </tr>\n",
       "    <tr>\n",
       "      <th>thrombolysis</th>\n",
       "      <td>69510.0</td>\n",
       "      <td>0.292346</td>\n",
       "      <td>0.454844</td>\n",
       "      <td>0.0</td>\n",
       "      <td>0.0</td>\n",
       "      <td>0.0</td>\n",
       "      <td>1.0</td>\n",
       "      <td>1.0</td>\n",
       "    </tr>\n",
       "  </tbody>\n",
       "</table>\n",
       "</div>"
      ],
      "text/plain": [
       "                            count        mean        std   min   25%    50%  \\\n",
       "age                       69510.0   74.666451  13.428511  37.5  67.5   77.5   \n",
       "infarction                69510.0    0.852539   0.354567   0.0   1.0    1.0   \n",
       "stroke severity           69510.0    9.004402   8.326078   0.0   3.0    6.0   \n",
       "onset-to-arrival time     69510.0  112.968105  53.235907   0.0  72.0  102.0   \n",
       "precise onset known       69510.0    0.630873   0.482572   0.0   0.0    1.0   \n",
       "onset during sleep        69510.0    0.050309   0.218584   0.0   0.0    0.0   \n",
       "use of AF anticoagulants  69510.0    0.135448   0.342204   0.0   0.0    0.0   \n",
       "prior disability          69510.0    1.062034   1.420023   0.0   0.0    0.0   \n",
       "arrival-to-scan time      69420.0   56.234342  77.025687   1.0  15.0   28.0   \n",
       "thrombolysis              69510.0    0.292346   0.454844   0.0   0.0    0.0   \n",
       "\n",
       "                            75%    max  \n",
       "age                        87.5   92.5  \n",
       "infarction                  1.0    1.0  \n",
       "stroke severity            14.0   42.0  \n",
       "onset-to-arrival time     149.0  240.0  \n",
       "precise onset known         1.0    1.0  \n",
       "onset during sleep          0.0    1.0  \n",
       "use of AF anticoagulants    0.0    1.0  \n",
       "prior disability            2.0    5.0  \n",
       "arrival-to-scan time       56.0  360.0  \n",
       "thrombolysis                1.0    1.0  "
      ]
     },
     "execution_count": 13,
     "metadata": {},
     "output_type": "execute_result"
    }
   ],
   "source": [
    "data.describe().T"
   ]
  },
  {
   "attachments": {},
   "cell_type": "markdown",
   "metadata": {},
   "source": [
    "## Save data"
   ]
  },
  {
   "cell_type": "code",
   "execution_count": 14,
   "metadata": {},
   "outputs": [],
   "source": [
    "data.to_csv('../data/thrombolysis_xgb_data_2017_2019.csv', index=False)"
   ]
  }
 ],
 "metadata": {
  "kernelspec": {
   "display_name": "sam10",
   "language": "python",
   "name": "python3"
  },
  "language_info": {
   "codemirror_mode": {
    "name": "ipython",
    "version": 3
   },
   "file_extension": ".py",
   "mimetype": "text/x-python",
   "name": "python",
   "nbconvert_exporter": "python",
   "pygments_lexer": "ipython3",
   "version": "3.10.10"
  },
  "orig_nbformat": 4
 },
 "nbformat": 4,
 "nbformat_minor": 2
}
